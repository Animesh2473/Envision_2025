{
 "cells": [
  {
   "cell_type": "code",
   "execution_count": 61,
   "id": "934c189a-a2ca-47dc-8ea9-c8fab260eeea",
   "metadata": {},
   "outputs": [
    {
     "name": "stdout",
     "output_type": "stream",
     "text": [
      "Requirement already satisfied: seaborn in c:\\users\\avk24\\conda\\credit-card-score\\env\\lib\\site-packages (0.11.2)\n",
      "Requirement already satisfied: numpy>=1.15 in c:\\users\\avk24\\conda\\credit-card-score\\env\\lib\\site-packages (from seaborn) (2.2.1)\n",
      "Requirement already satisfied: scipy>=1.0 in c:\\users\\avk24\\conda\\credit-card-score\\env\\lib\\site-packages (from seaborn) (1.14.1)\n",
      "Requirement already satisfied: pandas>=0.23 in c:\\users\\avk24\\conda\\credit-card-score\\env\\lib\\site-packages (from seaborn) (2.2.3)\n",
      "Requirement already satisfied: matplotlib>=2.2 in c:\\users\\avk24\\conda\\credit-card-score\\env\\lib\\site-packages (from seaborn) (3.10.0)\n",
      "Requirement already satisfied: contourpy>=1.0.1 in c:\\users\\avk24\\conda\\credit-card-score\\env\\lib\\site-packages (from matplotlib>=2.2->seaborn) (1.3.1)\n",
      "Requirement already satisfied: cycler>=0.10 in c:\\users\\avk24\\conda\\credit-card-score\\env\\lib\\site-packages (from matplotlib>=2.2->seaborn) (0.11.0)\n",
      "Requirement already satisfied: fonttools>=4.22.0 in c:\\users\\avk24\\conda\\credit-card-score\\env\\lib\\site-packages (from matplotlib>=2.2->seaborn) (4.51.0)\n",
      "Requirement already satisfied: kiwisolver>=1.3.1 in c:\\users\\avk24\\conda\\credit-card-score\\env\\lib\\site-packages (from matplotlib>=2.2->seaborn) (1.4.4)\n",
      "Requirement already satisfied: packaging>=20.0 in c:\\users\\avk24\\conda\\credit-card-score\\env\\lib\\site-packages (from matplotlib>=2.2->seaborn) (24.2)\n",
      "Requirement already satisfied: pillow>=8 in c:\\users\\avk24\\conda\\credit-card-score\\env\\lib\\site-packages (from matplotlib>=2.2->seaborn) (11.0.0)\n",
      "Requirement already satisfied: pyparsing>=2.3.1 in c:\\users\\avk24\\conda\\credit-card-score\\env\\lib\\site-packages (from matplotlib>=2.2->seaborn) (3.2.0)\n",
      "Requirement already satisfied: python-dateutil>=2.7 in c:\\users\\avk24\\conda\\credit-card-score\\env\\lib\\site-packages (from matplotlib>=2.2->seaborn) (2.9.0.post0)\n",
      "Requirement already satisfied: pytz>=2020.1 in c:\\users\\avk24\\conda\\credit-card-score\\env\\lib\\site-packages (from pandas>=0.23->seaborn) (2024.1)\n",
      "Requirement already satisfied: tzdata>=2022.7 in c:\\users\\avk24\\conda\\credit-card-score\\env\\lib\\site-packages (from pandas>=0.23->seaborn) (2023.3)\n",
      "Requirement already satisfied: six>=1.5 in c:\\users\\avk24\\conda\\credit-card-score\\env\\lib\\site-packages (from python-dateutil>=2.7->matplotlib>=2.2->seaborn) (1.16.0)\n"
     ]
    }
   ],
   "source": [
    "!pip install seaborn"
   ]
  },
  {
   "cell_type": "markdown",
   "id": "a47fc72f-7dbc-4ab0-9032-792383b1c68f",
   "metadata": {},
   "source": [
    "\n",
    "### Problem Definition\n",
    "In a statement:\n",
    "\n",
    "**Given the textual reviews, ratings, and other product-related attributes, can we predict the sentiment labels of reviews as positive, negative, or neutral?**\n",
    "\n",
    "---\n",
    "\n",
    "### Data\n",
    "This dataset contains product reviews and related metadata, such as product prices, ratings, and textual review content. Each review is classified into a sentiment label: **positive**, **negative**, or **neutral**. \n",
    "\n",
    "---\n",
    "\n",
    "### Features\n",
    "Below is the data dictionary, describing each feature in detail:\n",
    "\n",
    "1. **product_name**:  \n",
    "   - Description: The name of the product that the review is associated with.  \n",
    "   - Example: \"Canon EOS 3000D DSLR Camera\" or \"OnePlus Bullets Wireless Z2 Headset\".\n",
    "\n",
    "2. **product_price**:  \n",
    "   - Description: The price of the product in currency units. Higher prices might indicate premium products.  \n",
    "   - Example: 30999 (for an expensive camera) or 1499 (for an affordable electric cooker).\n",
    "\n",
    "3. **Rate**:  \n",
    "   - Description: The numerical rating given by the reviewer, usually on a scale of 1 to 5.  \n",
    "   - Values:  \n",
    "     - 5: Excellent  \n",
    "     - 4: Very Good  \n",
    "     - 3: Good  \n",
    "     - 2: Fair  \n",
    "     - 1: Poor  \n",
    "\n",
    "4. **Review**:  \n",
    "   - Description: A short summary of the user’s opinion about the product.  \n",
    "   - Example: \"Mindblowing purchase\" or \"Very poor quality\".  \n",
    "   - Note: Often indicative of the overall sentiment but less detailed than the \"text\" feature.\n",
    "\n",
    "5. **text**:  \n",
    "   - Description: The detailed textual review written by the user, providing insights into their experience.  \n",
    "   - Example:  \n",
    "     - Positive: \"The product is amazing, the sound quality and battery life are great.\"  \n",
    "     - Negative: \"Very poor quality, it stopped working after just one use.\"\n",
    "\n",
    "6. **labels**:  \n",
    "   - Description: The sentiment classification of the review. This is the target variable we aim to predict.  \n",
    "   - Values:  \n",
    "     - **positive**: Indicates a favorable review.  \n",
    "     - **neutral**: Indicates a mixed or indifferent review.  \n",
    "     - **negative**: Indicates a poor or unfavorable review.  \n",
    "\n",
    "7. **sentiment_code**:  \n",
    "   - Description: A numerical encoding of the labels for easier processing in machine learning models.  \n",
    "   - Values:  \n",
    "     - 2: Positive sentiment.  \n",
    "     - 1: Neutral sentiment.  \n",
    "     - 0: Negative sentiment.  \n",
    "\n"
   ]
  },
  {
   "cell_type": "markdown",
   "id": "8c706d03-ac3b-437e-8c27-4dbeb669d6c3",
   "metadata": {},
   "source": [
    "## Preparing the tools\n",
    "\n",
    "We're going to use pandas, numpy ,Matplotlib and NUmpy for data analysis and manupulation"
   ]
  },
  {
   "cell_type": "code",
   "execution_count": 2,
   "id": "389531eb-dd25-461c-96fd-59ec49f029e5",
   "metadata": {},
   "outputs": [],
   "source": [
    "import pandas as pd"
   ]
  },
  {
   "cell_type": "code",
   "execution_count": 21,
   "id": "ab0ece84-5e9b-422c-8222-d313f4bf095b",
   "metadata": {},
   "outputs": [],
   "source": [
    "# Import all the tools we need\n",
    "\n",
    "# Regular EDA and plotting Librarries\n",
    "import numpy as np\n",
    "import pandas as pd\n",
    "import matplotlib.pyplot as plt\n",
    "import seaborn as sns\n",
    "\n",
    "%matplotlib inline\n",
    "\n",
    "# Models from Scikit-Learn\n",
    "from sklearn.linear_model import LogisticRegression\n",
    "from sklearn.neighbors import KNeighborsClassifier\n",
    "from sklearn.ensemble import RandomForestClassifier\n",
    "\n",
    "#Model Evaluations\n",
    "from sklearn.model_selection import train_test_split,cross_val_predict\n",
    "from sklearn.model_selection import RandomizedSearchCV,GridSearchCV,cross_val_score\n",
    "from sklearn.metrics import confusion_matrix,classification_report\n",
    "from sklearn.metrics import precision_score,recall_score,f1_score\n",
    "from sklearn.metrics import RocCurveDisplay,roc_curve,roc_auc_score\n",
    "from sklearn import metrics"
   ]
  },
  {
   "cell_type": "markdown",
   "id": "a15cd814-977a-4b3f-a6e8-6387ab3aafd9",
   "metadata": {},
   "source": [
    "## Load data"
   ]
  },
  {
   "cell_type": "code",
   "execution_count": 4,
   "id": "71b391ee-7513-4350-8ec0-38ccab73f3a4",
   "metadata": {},
   "outputs": [
    {
     "data": {
      "text/plain": [
       "((2000, 9),\n",
       " Index(['product_name', 'product_price', 'Rate', 'Review', 'text', 'labels',\n",
       "        'sentiment_code', 'common_name', 'model_count'],\n",
       "       dtype='object'))"
      ]
     },
     "execution_count": 4,
     "metadata": {},
     "output_type": "execute_result"
    }
   ],
   "source": [
    "df = pd.read_csv(\"modified_cleaned_datathon.csv\")\n",
    "df.shape, df.columns"
   ]
  },
  {
   "cell_type": "markdown",
   "id": "b7830afd-2e16-4f31-9997-4653201fc7ff",
   "metadata": {},
   "source": [
    "## Data Exploration (exploatory data anylisis or EDA)\n",
    "The gole here is to find out moreabout data and become a subject matter on the dataset you're working with\n",
    "1. What questions are we trying to solve ?.\n",
    "2. What kind of data do we have and how do we treat diffrent types ?\n",
    "3. What's missing from the data how we deal with it ?\n",
    "4. Where are the outliers and why should you care about them ?\n",
    "5. How can you add change or remove features to get more out of your data ?"
   ]
  },
  {
   "cell_type": "code",
   "execution_count": 5,
   "id": "04b9c655-8c9d-4468-a699-96bbd90759bd",
   "metadata": {},
   "outputs": [
    {
     "data": {
      "text/html": [
       "<div>\n",
       "<style scoped>\n",
       "    .dataframe tbody tr th:only-of-type {\n",
       "        vertical-align: middle;\n",
       "    }\n",
       "\n",
       "    .dataframe tbody tr th {\n",
       "        vertical-align: top;\n",
       "    }\n",
       "\n",
       "    .dataframe thead th {\n",
       "        text-align: right;\n",
       "    }\n",
       "</style>\n",
       "<table border=\"1\" class=\"dataframe\">\n",
       "  <thead>\n",
       "    <tr style=\"text-align: right;\">\n",
       "      <th></th>\n",
       "      <th>product_name</th>\n",
       "      <th>product_price</th>\n",
       "      <th>Rate</th>\n",
       "      <th>Review</th>\n",
       "      <th>text</th>\n",
       "      <th>labels</th>\n",
       "      <th>sentiment_code</th>\n",
       "      <th>common_name</th>\n",
       "    </tr>\n",
       "  </thead>\n",
       "  <tbody>\n",
       "    <tr>\n",
       "      <th>0</th>\n",
       "      <td>canon eos 3000d dslr camera 1 camera body 18  ...</td>\n",
       "      <td>30999.0</td>\n",
       "      <td>5.0</td>\n",
       "      <td>mindblowing purchase</td>\n",
       "      <td>nice</td>\n",
       "      <td>positive</td>\n",
       "      <td>2</td>\n",
       "      <td>canon</td>\n",
       "    </tr>\n",
       "    <tr>\n",
       "      <th>1</th>\n",
       "      <td>flipkart smartbuy cfxb15 electric rice cooker1...</td>\n",
       "      <td>1499.0</td>\n",
       "      <td>2.0</td>\n",
       "      <td>moderate</td>\n",
       "      <td>very poor quality</td>\n",
       "      <td>negative</td>\n",
       "      <td>0</td>\n",
       "      <td>flipkart</td>\n",
       "    </tr>\n",
       "    <tr>\n",
       "      <th>2</th>\n",
       "      <td>google nest hub 2nd gen display with google as...</td>\n",
       "      <td>6999.0</td>\n",
       "      <td>5.0</td>\n",
       "      <td>awesome</td>\n",
       "      <td>far better and cheaper than alexa</td>\n",
       "      <td>positive</td>\n",
       "      <td>2</td>\n",
       "      <td>google</td>\n",
       "    </tr>\n",
       "    <tr>\n",
       "      <th>3</th>\n",
       "      <td>wd 15 tb wired external hard disk drive hddblack</td>\n",
       "      <td>4449.0</td>\n",
       "      <td>5.0</td>\n",
       "      <td>fabulous</td>\n",
       "      <td>i would like to suggest this for persons looki...</td>\n",
       "      <td>positive</td>\n",
       "      <td>2</td>\n",
       "      <td>wd</td>\n",
       "    </tr>\n",
       "    <tr>\n",
       "      <th>4</th>\n",
       "      <td>oneplus bullets wireless z2 bluetooth headseta...</td>\n",
       "      <td>1999.0</td>\n",
       "      <td>5.0</td>\n",
       "      <td>super</td>\n",
       "      <td>the product is amazing the sound quality and b...</td>\n",
       "      <td>positive</td>\n",
       "      <td>2</td>\n",
       "      <td>oneplus</td>\n",
       "    </tr>\n",
       "  </tbody>\n",
       "</table>\n",
       "</div>"
      ],
      "text/plain": [
       "                                        product_name  product_price  Rate  \\\n",
       "0  canon eos 3000d dslr camera 1 camera body 18  ...        30999.0   5.0   \n",
       "1  flipkart smartbuy cfxb15 electric rice cooker1...         1499.0   2.0   \n",
       "2  google nest hub 2nd gen display with google as...         6999.0   5.0   \n",
       "3   wd 15 tb wired external hard disk drive hddblack         4449.0   5.0   \n",
       "4  oneplus bullets wireless z2 bluetooth headseta...         1999.0   5.0   \n",
       "\n",
       "                 Review                                               text  \\\n",
       "0  mindblowing purchase                                               nice   \n",
       "1              moderate                                  very poor quality   \n",
       "2               awesome                  far better and cheaper than alexa   \n",
       "3              fabulous  i would like to suggest this for persons looki...   \n",
       "4                 super  the product is amazing the sound quality and b...   \n",
       "\n",
       "     labels  sentiment_code common_name  \n",
       "0  positive               2       canon  \n",
       "1  negative               0    flipkart  \n",
       "2  positive               2      google  \n",
       "3  positive               2          wd  \n",
       "4  positive               2     oneplus  "
      ]
     },
     "execution_count": 5,
     "metadata": {},
     "output_type": "execute_result"
    }
   ],
   "source": [
    "# Now we will delete the extra columns\n",
    "df = df.drop('model_count',axis = 1)\n",
    "df.head()"
   ]
  },
  {
   "cell_type": "code",
   "execution_count": 6,
   "id": "6fdc0dba-9cbe-4e24-83ab-ce29b4317e56",
   "metadata": {
    "scrolled": true
   },
   "outputs": [
    {
     "data": {
      "text/plain": [
       "labels\n",
       "positive    1608\n",
       "negative     313\n",
       "neutral       79\n",
       "Name: count, dtype: int64"
      ]
     },
     "execution_count": 6,
     "metadata": {},
     "output_type": "execute_result"
    }
   ],
   "source": [
    "df[\"labels\"].value_counts()"
   ]
  },
  {
   "cell_type": "code",
   "execution_count": 7,
   "id": "e0f7e290-08e1-4c56-b98e-40f46a227f89",
   "metadata": {},
   "outputs": [
    {
     "data": {
      "image/png": "[encoded data removed]",
      "text/plain": [
       "<Figure size 640x480 with 1 Axes>"
      ]
     },
     "metadata": {},
     "output_type": "display_data"
    }
   ],
   "source": [
    "df[\"labels\"].value_counts().plot(kind=\"bar\",color=[\"salmon\",\"lightblue\",\"yellow\"])\n",
    "plt.show()"
   ]
  },
  {
   "cell_type": "code",
   "execution_count": 8,
   "id": "504cbfa2-aeb0-42cc-944a-2acbe86773c8",
   "metadata": {},
   "outputs": [
    {
     "name": "stdout",
     "output_type": "stream",
     "text": [
      "<class 'pandas.core.frame.DataFrame'>\n",
      "RangeIndex: 2000 entries, 0 to 1999\n",
      "Data columns (total 8 columns):\n",
      " #   Column          Non-Null Count  Dtype  \n",
      "---  ------          --------------  -----  \n",
      " 0   product_name    2000 non-null   object \n",
      " 1   product_price   2000 non-null   float64\n",
      " 2   Rate            2000 non-null   float64\n",
      " 3   Review          2000 non-null   object \n",
      " 4   text            2000 non-null   object \n",
      " 5   labels          2000 non-null   object \n",
      " 6   sentiment_code  2000 non-null   int64  \n",
      " 7   common_name     2000 non-null   object \n",
      "dtypes: float64(2), int64(1), object(5)\n",
      "memory usage: 125.1+ KB\n"
     ]
    }
   ],
   "source": [
    "df.info()"
   ]
  },
  {
   "cell_type": "code",
   "execution_count": 9,
   "id": "a55d377e-4c74-4e30-b80e-fd3bce6d1741",
   "metadata": {},
   "outputs": [
    {
     "data": {
      "text/plain": [
       "product_name      0\n",
       "product_price     0\n",
       "Rate              0\n",
       "Review            0\n",
       "text              0\n",
       "labels            0\n",
       "sentiment_code    0\n",
       "common_name       0\n",
       "dtype: int64"
      ]
     },
     "execution_count": 9,
     "metadata": {},
     "output_type": "execute_result"
    }
   ],
   "source": [
    "df.isna().sum()"
   ]
  },
  {
   "cell_type": "code",
   "execution_count": 10,
   "id": "ee0e0d26-e437-497b-9bfe-8e26a7e2b459",
   "metadata": {},
   "outputs": [
    {
     "data": {
      "text/html": [
       "<div>\n",
       "<style scoped>\n",
       "    .dataframe tbody tr th:only-of-type {\n",
       "        vertical-align: middle;\n",
       "    }\n",
       "\n",
       "    .dataframe tbody tr th {\n",
       "        vertical-align: top;\n",
       "    }\n",
       "\n",
       "    .dataframe thead th {\n",
       "        text-align: right;\n",
       "    }\n",
       "</style>\n",
       "<table border=\"1\" class=\"dataframe\">\n",
       "  <thead>\n",
       "    <tr style=\"text-align: right;\">\n",
       "      <th></th>\n",
       "      <th>product_price</th>\n",
       "      <th>Rate</th>\n",
       "      <th>sentiment_code</th>\n",
       "    </tr>\n",
       "  </thead>\n",
       "  <tbody>\n",
       "    <tr>\n",
       "      <th>count</th>\n",
       "      <td>2000.000000</td>\n",
       "      <td>2000.000000</td>\n",
       "      <td>2000.000000</td>\n",
       "    </tr>\n",
       "    <tr>\n",
       "      <th>mean</th>\n",
       "      <td>7150.353500</td>\n",
       "      <td>4.093000</td>\n",
       "      <td>1.647500</td>\n",
       "    </tr>\n",
       "    <tr>\n",
       "      <th>std</th>\n",
       "      <td>10760.066713</td>\n",
       "      <td>1.361719</td>\n",
       "      <td>0.735877</td>\n",
       "    </tr>\n",
       "    <tr>\n",
       "      <th>min</th>\n",
       "      <td>59.000000</td>\n",
       "      <td>1.000000</td>\n",
       "      <td>0.000000</td>\n",
       "    </tr>\n",
       "    <tr>\n",
       "      <th>25%</th>\n",
       "      <td>699.000000</td>\n",
       "      <td>4.000000</td>\n",
       "      <td>2.000000</td>\n",
       "    </tr>\n",
       "    <tr>\n",
       "      <th>50%</th>\n",
       "      <td>1999.000000</td>\n",
       "      <td>5.000000</td>\n",
       "      <td>2.000000</td>\n",
       "    </tr>\n",
       "    <tr>\n",
       "      <th>75%</th>\n",
       "      <td>7999.000000</td>\n",
       "      <td>5.000000</td>\n",
       "      <td>2.000000</td>\n",
       "    </tr>\n",
       "    <tr>\n",
       "      <th>max</th>\n",
       "      <td>52990.000000</td>\n",
       "      <td>5.000000</td>\n",
       "      <td>2.000000</td>\n",
       "    </tr>\n",
       "  </tbody>\n",
       "</table>\n",
       "</div>"
      ],
      "text/plain": [
       "       product_price         Rate  sentiment_code\n",
       "count    2000.000000  2000.000000     2000.000000\n",
       "mean     7150.353500     4.093000        1.647500\n",
       "std     10760.066713     1.361719        0.735877\n",
       "min        59.000000     1.000000        0.000000\n",
       "25%       699.000000     4.000000        2.000000\n",
       "50%      1999.000000     5.000000        2.000000\n",
       "75%      7999.000000     5.000000        2.000000\n",
       "max     52990.000000     5.000000        2.000000"
      ]
     },
     "execution_count": 10,
     "metadata": {},
     "output_type": "execute_result"
    }
   ],
   "source": [
    "df.describe()"
   ]
  },
  {
   "cell_type": "markdown",
   "id": "ea4f34be-c05e-4fdd-a5d0-8b9d9a205e3b",
   "metadata": {},
   "source": [
    "### Data Frequency according to sentiment_code"
   ]
  },
  {
   "cell_type": "code",
   "execution_count": 11,
   "id": "f3343957-5c76-46b5-b65c-c108af61e975",
   "metadata": {},
   "outputs": [
    {
     "data": {
      "text/plain": [
       "sentiment_code\n",
       "2    1608\n",
       "0     313\n",
       "1      79\n",
       "Name: count, dtype: int64"
      ]
     },
     "execution_count": 11,
     "metadata": {},
     "output_type": "execute_result"
    }
   ],
   "source": [
    "df.sentiment_code.value_counts()"
   ]
  },
  {
   "cell_type": "code",
   "execution_count": 14,
   "id": "91c1f232-bb3e-4255-b8d1-1eaa9145972b",
   "metadata": {},
   "outputs": [],
   "source": [
    "# Here we have converted the target values in numberic form \n",
    "df[\"labels\"].replace(\"positive\", 0,inplace=True)\n",
    "df[\"labels\"].replace(\"negative\", 1,inplace=True)\n",
    "df[\"labels\"].replace(\"neutral\", 2,inplace=True)"
   ]
  },
  {
   "cell_type": "code",
   "execution_count": 15,
   "id": "065c3419-2acf-4cc1-96ee-22605a984506",
   "metadata": {},
   "outputs": [
    {
     "data": {
      "text/html": [
       "<div>\n",
       "<style scoped>\n",
       "    .dataframe tbody tr th:only-of-type {\n",
       "        vertical-align: middle;\n",
       "    }\n",
       "\n",
       "    .dataframe tbody tr th {\n",
       "        vertical-align: top;\n",
       "    }\n",
       "\n",
       "    .dataframe thead th {\n",
       "        text-align: right;\n",
       "    }\n",
       "</style>\n",
       "<table border=\"1\" class=\"dataframe\">\n",
       "  <thead>\n",
       "    <tr style=\"text-align: right;\">\n",
       "      <th></th>\n",
       "      <th>product_name</th>\n",
       "      <th>product_price</th>\n",
       "      <th>Rate</th>\n",
       "      <th>Review</th>\n",
       "      <th>text</th>\n",
       "      <th>labels</th>\n",
       "      <th>sentiment_code</th>\n",
       "      <th>common_name</th>\n",
       "    </tr>\n",
       "  </thead>\n",
       "  <tbody>\n",
       "    <tr>\n",
       "      <th>0</th>\n",
       "      <td>canon eos 3000d dslr camera 1 camera body 18  ...</td>\n",
       "      <td>30999.0</td>\n",
       "      <td>5.0</td>\n",
       "      <td>mindblowing purchase</td>\n",
       "      <td>nice</td>\n",
       "      <td>0</td>\n",
       "      <td>2</td>\n",
       "      <td>canon</td>\n",
       "    </tr>\n",
       "    <tr>\n",
       "      <th>1</th>\n",
       "      <td>flipkart smartbuy cfxb15 electric rice cooker1...</td>\n",
       "      <td>1499.0</td>\n",
       "      <td>2.0</td>\n",
       "      <td>moderate</td>\n",
       "      <td>very poor quality</td>\n",
       "      <td>1</td>\n",
       "      <td>0</td>\n",
       "      <td>flipkart</td>\n",
       "    </tr>\n",
       "    <tr>\n",
       "      <th>2</th>\n",
       "      <td>google nest hub 2nd gen display with google as...</td>\n",
       "      <td>6999.0</td>\n",
       "      <td>5.0</td>\n",
       "      <td>awesome</td>\n",
       "      <td>far better and cheaper than alexa</td>\n",
       "      <td>0</td>\n",
       "      <td>2</td>\n",
       "      <td>google</td>\n",
       "    </tr>\n",
       "    <tr>\n",
       "      <th>3</th>\n",
       "      <td>wd 15 tb wired external hard disk drive hddblack</td>\n",
       "      <td>4449.0</td>\n",
       "      <td>5.0</td>\n",
       "      <td>fabulous</td>\n",
       "      <td>i would like to suggest this for persons looki...</td>\n",
       "      <td>0</td>\n",
       "      <td>2</td>\n",
       "      <td>wd</td>\n",
       "    </tr>\n",
       "    <tr>\n",
       "      <th>4</th>\n",
       "      <td>oneplus bullets wireless z2 bluetooth headseta...</td>\n",
       "      <td>1999.0</td>\n",
       "      <td>5.0</td>\n",
       "      <td>super</td>\n",
       "      <td>the product is amazing the sound quality and b...</td>\n",
       "      <td>0</td>\n",
       "      <td>2</td>\n",
       "      <td>oneplus</td>\n",
       "    </tr>\n",
       "  </tbody>\n",
       "</table>\n",
       "</div>"
      ],
      "text/plain": [
       "                                        product_name  product_price  Rate  \\\n",
       "0  canon eos 3000d dslr camera 1 camera body 18  ...        30999.0   5.0   \n",
       "1  flipkart smartbuy cfxb15 electric rice cooker1...         1499.0   2.0   \n",
       "2  google nest hub 2nd gen display with google as...         6999.0   5.0   \n",
       "3   wd 15 tb wired external hard disk drive hddblack         4449.0   5.0   \n",
       "4  oneplus bullets wireless z2 bluetooth headseta...         1999.0   5.0   \n",
       "\n",
       "                 Review                                               text  \\\n",
       "0  mindblowing purchase                                               nice   \n",
       "1              moderate                                  very poor quality   \n",
       "2               awesome                  far better and cheaper than alexa   \n",
       "3              fabulous  i would like to suggest this for persons looki...   \n",
       "4                 super  the product is amazing the sound quality and b...   \n",
       "\n",
       "   labels  sentiment_code common_name  \n",
       "0       0               2       canon  \n",
       "1       1               0    flipkart  \n",
       "2       0               2      google  \n",
       "3       0               2          wd  \n",
       "4       0               2     oneplus  "
      ]
     },
     "execution_count": 15,
     "metadata": {},
     "output_type": "execute_result"
    }
   ],
   "source": [
    "df.head()"
   ]
  },
  {
   "cell_type": "code",
   "execution_count": 16,
   "id": "e9215f7f-d94a-4427-98cf-8e39a70fd374",
   "metadata": {},
   "outputs": [
    {
     "data": {
      "text/html": [
       "<div>\n",
       "<style scoped>\n",
       "    .dataframe tbody tr th:only-of-type {\n",
       "        vertical-align: middle;\n",
       "    }\n",
       "\n",
       "    .dataframe tbody tr th {\n",
       "        vertical-align: top;\n",
       "    }\n",
       "\n",
       "    .dataframe thead th {\n",
       "        text-align: right;\n",
       "    }\n",
       "</style>\n",
       "<table border=\"1\" class=\"dataframe\">\n",
       "  <thead>\n",
       "    <tr style=\"text-align: right;\">\n",
       "      <th>sentiment_code</th>\n",
       "      <th>0</th>\n",
       "      <th>1</th>\n",
       "      <th>2</th>\n",
       "    </tr>\n",
       "    <tr>\n",
       "      <th>labels</th>\n",
       "      <th></th>\n",
       "      <th></th>\n",
       "      <th></th>\n",
       "    </tr>\n",
       "  </thead>\n",
       "  <tbody>\n",
       "    <tr>\n",
       "      <th>0</th>\n",
       "      <td>0</td>\n",
       "      <td>0</td>\n",
       "      <td>1608</td>\n",
       "    </tr>\n",
       "    <tr>\n",
       "      <th>1</th>\n",
       "      <td>313</td>\n",
       "      <td>0</td>\n",
       "      <td>0</td>\n",
       "    </tr>\n",
       "    <tr>\n",
       "      <th>2</th>\n",
       "      <td>0</td>\n",
       "      <td>79</td>\n",
       "      <td>0</td>\n",
       "    </tr>\n",
       "  </tbody>\n",
       "</table>\n",
       "</div>"
      ],
      "text/plain": [
       "sentiment_code    0   1     2\n",
       "labels                       \n",
       "0                 0   0  1608\n",
       "1               313   0     0\n",
       "2                 0  79     0"
      ]
     },
     "execution_count": 16,
     "metadata": {},
     "output_type": "execute_result"
    }
   ],
   "source": [
    "#Compare target with sentement code column\n",
    "pd.crosstab(df.labels,df.sentiment_code)"
   ]
  },
  {
   "cell_type": "code",
   "execution_count": 17,
   "id": "3667288f-50dc-4966-8a8d-45dd4feac718",
   "metadata": {},
   "outputs": [
    {
     "data": {
      "image/png": "[encoded data removed]",
      "text/plain": [
       "<Figure size 1000x600 with 1 Axes>"
      ]
     },
     "metadata": {},
     "output_type": "display_data"
    }
   ],
   "source": [
    "# Create a plot a crosstab\n",
    "pd.crosstab(df.labels,df.sentiment_code).plot(kind='bar',\n",
    "                                   figsize = (10,6),\n",
    "                                   color =[\"salmon\",\"lightblue\",\"yellow\"])\n",
    "plt.title(\"Target with sentement code column\")\n",
    "plt.xlabel(\"0 = Positive, 1= Negative, 2 = neutral\")\n",
    "plt.ylabel(\"Amount --->\")\n",
    "plt.legend([\"Positive\",\"Negative\",\"Neutral\"]);\n",
    "plt.xticks(rotation=0);\n",
    "plt.show()"
   ]
  },
  {
   "cell_type": "code",
   "execution_count": 18,
   "id": "a81bb308-e4b2-4ea4-bf83-ceeb80a59070",
   "metadata": {},
   "outputs": [
    {
     "data": {
      "image/png": "[encoded data removed]",
      "text/plain": [
       "<Figure size 1000x600 with 1 Axes>"
      ]
     },
     "metadata": {},
     "output_type": "display_data"
    }
   ],
   "source": [
    "plt.figure(figsize=(10,6))\n",
    "\n",
    "# Scatter with positive examples\n",
    "plt.scatter(df.labels[df.labels==1],\n",
    "            df.product_price[df.labels==1],\n",
    "            c=\"salmon\")\n",
    "plt.scatter(df.labels[df.labels==0],\n",
    "            df.product_price[df.labels==0],\n",
    "            c=\"lightblue\")\n",
    "#Add some helful info\n",
    "plt.title(\"Lables vs Price \")\n",
    "plt.xlabel(\"Lables -->\")\n",
    "plt.ylabel(\"common name -->\")\n",
    "plt.legend([\"Positive \",\"Negative\",\"Neutral\"])\n",
    "plt.show();"
   ]
  },
  {
   "cell_type": "code",
   "execution_count": 19,
   "id": "89d458a2-4870-498e-8593-92748756d178",
   "metadata": {},
   "outputs": [
    {
     "data": {
      "image/png": "[encoded data removed]",
      "text/plain": [
       "<Figure size 640x480 with 1 Axes>"
      ]
     },
     "metadata": {},
     "output_type": "display_data"
    }
   ],
   "source": [
    "# Chech the distribution of age column with a histogram\n",
    "df.product_price.plot.hist()\n",
    "plt.show()"
   ]
  },
  {
   "cell_type": "code",
   "execution_count": null,
   "id": "48e5eb9e-165b-4aba-b342-1ea9c00f0418",
   "metadata": {},
   "outputs": [],
   "source": []
  }
 ],
 "metadata": {
  "kernelspec": {
   "display_name": "Python 3 (ipykernel)",
   "language": "python",
   "name": "python3"
  },
  "language_info": {
   "codemirror_mode": {
    "name": "ipython",
    "version": 3
   },
   "file_extension": ".py",
   "mimetype": "text/x-python",
   "name": "python",
   "nbconvert_exporter": "python",
   "pygments_lexer": "ipython3",
   "version": "3.12.4"
  }
 },
 "nbformat": 4,
 "nbformat_minor": 5
}
